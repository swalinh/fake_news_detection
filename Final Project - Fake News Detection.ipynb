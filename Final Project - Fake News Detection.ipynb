{
 "cells": [
  {
   "cell_type": "markdown",
   "metadata": {},
   "source": [
    "# Fake News Detection using NLP\n",
    "## Framework steps\n",
    "\n",
    "1. Pre-processing\n",
    "2. Feature Extraction\n",
    "3. Classification Model\n",
    "4. Evaluation"
   ]
  },
  {
   "cell_type": "markdown",
   "metadata": {},
   "source": [
    "## Importing Libraries"
   ]
  },
  {
   "cell_type": "code",
   "execution_count": 1,
   "metadata": {},
   "outputs": [
    {
     "name": "stdout",
     "output_type": "stream",
     "text": [
      "Collecting scikit-plot\n",
      "  Downloading scikit_plot-0.3.7-py3-none-any.whl (33 kB)\n",
      "Requirement already satisfied: joblib>=0.10 in /opt/conda/lib/python3.7/site-packages (from scikit-plot) (0.14.1)\n",
      "Requirement already satisfied: scipy>=0.9 in /opt/conda/lib/python3.7/site-packages (from scikit-plot) (1.4.1)\n",
      "Requirement already satisfied: scikit-learn>=0.18 in /opt/conda/lib/python3.7/site-packages (from scikit-plot) (0.22.2.post1)\n",
      "Requirement already satisfied: matplotlib>=1.4.0 in /opt/conda/lib/python3.7/site-packages (from scikit-plot) (3.2.1)\n",
      "Requirement already satisfied: pyparsing!=2.0.4,!=2.1.2,!=2.1.6,>=2.0.1 in /opt/conda/lib/python3.7/site-packages (from matplotlib>=1.4.0->scikit-plot) (2.4.7)\n",
      "Requirement already satisfied: kiwisolver>=1.0.1 in /opt/conda/lib/python3.7/site-packages (from matplotlib>=1.4.0->scikit-plot) (1.2.0)\n",
      "Requirement already satisfied: cycler>=0.10 in /opt/conda/lib/python3.7/site-packages (from matplotlib>=1.4.0->scikit-plot) (0.10.0)\n",
      "Requirement already satisfied: numpy>=1.11 in /opt/conda/lib/python3.7/site-packages (from matplotlib>=1.4.0->scikit-plot) (1.18.4)\n",
      "Requirement already satisfied: python-dateutil>=2.1 in /opt/conda/lib/python3.7/site-packages (from matplotlib>=1.4.0->scikit-plot) (2.8.1)\n",
      "Requirement already satisfied: six in /opt/conda/lib/python3.7/site-packages (from cycler>=0.10->matplotlib>=1.4.0->scikit-plot) (1.14.0)\n",
      "Installing collected packages: scikit-plot\n",
      "Successfully installed scikit-plot-0.3.7\n",
      "\u001b[33mWARNING: You are using pip version 21.2.4; however, version 22.2.2 is available.\n",
      "You should consider upgrading via the '/opt/conda/bin/python3 -m pip install --upgrade pip' command.\u001b[0m\n"
     ]
    },
    {
     "name": "stderr",
     "output_type": "stream",
     "text": [
      "[nltk_data] Downloading package stopwords to /home/jovyan/nltk_data...\n",
      "[nltk_data]   Unzipping corpora/stopwords.zip.\n",
      "[nltk_data] Downloading package wordnet to /home/jovyan/nltk_data...\n",
      "[nltk_data] Downloading package punkt to /home/jovyan/nltk_data...\n",
      "[nltk_data]   Unzipping tokenizers/punkt.zip.\n"
     ]
    }
   ],
   "source": [
    "# Importing The most fundamental libraries\n",
    "\n",
    "!pip install scikit-plot\n",
    "# !pip install wordcloud\n",
    "\n",
    "import pandas as pd\n",
    "import numpy as np\n",
    "import nltk\n",
    "import os\n",
    "import re\n",
    "import string\n",
    "import time\n",
    "\n",
    "# for pre-processing dataset\n",
    "from nltk import ngrams\n",
    "from nltk.corpus import stopwords\n",
    "from nltk.stem.porter import PorterStemmer \n",
    "from nltk.tokenize import word_tokenize\n",
    "\n",
    "# for feature Extraction\n",
    "from sklearn.feature_extraction.text import TfidfVectorizer,CountVectorizer\n",
    "from sklearn.linear_model import PassiveAggressiveClassifier\n",
    "\n",
    "# for Splitting our dataset\n",
    "from sklearn.model_selection import train_test_split\n",
    "\n",
    "# for building classification models\n",
    "from sklearn.ensemble import RandomForestClassifier\n",
    "from sklearn.linear_model import LogisticRegression\n",
    "from sklearn import svm\n",
    "\n",
    "# for evaluation our model\n",
    "from sklearn.metrics import accuracy_score, f1_score, confusion_matrix, classification_report\n",
    "\n",
    "# for plotting our confusion matrix\n",
    "import matplotlib.pyplot as plt\n",
    "import scikitplot as skplt\n",
    "\n",
    "#specify english stop words only\n",
    "nltk.download('stopwords')\n",
    "stops= stopwords.words('english') \n",
    "\n",
    "nltk.download('wordnet')\n",
    "nltk.download('punkt')\n",
    "\n",
    "# append rt for stop word dictionary\n",
    "stops.append(\"rt\") \n",
    "\n",
    "#Create stemmer obejct\n",
    "porter = PorterStemmer()"
   ]
  },
  {
   "cell_type": "markdown",
   "metadata": {},
   "source": [
    "## Pre-Processing"
   ]
  },
  {
   "cell_type": "code",
   "execution_count": 2,
   "metadata": {},
   "outputs": [],
   "source": [
    "# Cleanning Our dataset by removing unwanted Characters, Non Letters and Punctuation\n",
    "def cleanText(csv_file):\n",
    "    # Reading our dataset as pandas dataframe\n",
    "    data = pd.read_csv(csv_file)\n",
    "    # dropping the id, title and author column\n",
    "    data = data.drop(columns=['id','author']) \n",
    "    # droping all null values in our data\n",
    "    data = data.dropna() \n",
    "    data = data.reset_index(drop = True)\n",
    "    \n",
    "    return data\n",
    "\n",
    "# Cleanning our text and converting it to lower case, delete stopwords, Stemming and remove punctuation\n",
    "def stem_tokenize(data):\n",
    "\n",
    "    # Frist converting all letters to lower case\n",
    "    data= data.lower()\n",
    "\n",
    "    # removing unwanted digits ,special chracters from the text\n",
    "    data= ' '.join(re.sub(\"(@[A-Za-z0-9]+)\", \" \", data).split())\n",
    "    data= ' '.join(re.sub(\"^@?(\\w){1,15}$\", \" \", data).split())\n",
    "    data= ' '.join(re.sub(\"(\\w+:\\/\\/\\S+)\", \" \", data).split())\n",
    "\n",
    "    # removing stopwards and numbers from STRING library\n",
    "    table= str.maketrans('', '', string.punctuation+string.digits)\n",
    "    data = data.translate(table)\n",
    "  \n",
    "    # Split Sentence as tokens words \n",
    "    token = word_tokenize(data)\n",
    "  \n",
    "    # converting words to their root forms by STEMMING THE WORDS \n",
    "    stem = [porter.stem(word) for word in token] \n",
    "  \n",
    "    # remove stopwords from our text\n",
    "    words = [word for word in stem if not word in stops]\n",
    "    data  = ' '.join(words)\n",
    "\n",
    "    return data\n",
    "\n",
    "# Splitting our Dataset into trainning and testing sets 80/20\n",
    "def Splite_clean_data(csv_file, colX, colY):\n",
    "    \n",
    "    # reading Clean Dataset\n",
    "    df = cleanText(csv_file)\n",
    "    \n",
    "    # Applying Clean function to remove unwanted characters , stopwords and apply STEMMING\n",
    "    for i in range(len(df)):\n",
    "        df.loc[i, colX] = stem_tokenize(df.loc[i,colX])\n",
    "\n",
    "    # Splitting dataset into trainning and testing sets\n",
    "    x_train, x_test, y_train, y_test = train_test_split(df[colX], df[colY], test_size=0.2, random_state=7)\n",
    "    \n",
    "    return x_train, x_test, y_train, y_test"
   ]
  },
  {
   "cell_type": "markdown",
   "metadata": {},
   "source": [
    "## Feature Extraction\n",
    "### TF-IDF"
   ]
  },
  {
   "cell_type": "code",
   "execution_count": 3,
   "metadata": {},
   "outputs": [],
   "source": [
    "def TF_IDF(Model, title):\n",
    "\n",
    "    # Spiltting the dataset after calling Clean function to pre-process datat before extracting feature\n",
    "    xtrain, xtest, ytrain, ytest = Splite_clean_data('train.csv', 'text', 'label')\n",
    "\n",
    "    # Initialization TF-IDF vector model to convert all textual content to numercial one\n",
    "    vector = TfidfVectorizer(stop_words='english', max_df=0.7)\n",
    "    train_vector = vector.fit_transform(xtrain)\n",
    "    test_vector  = vector.transform(xtest)\n",
    "    \n",
    "    TF_IDF_model     = Model\n",
    "    TF_IDF_model.fit(train_vector, ytrain)\n",
    "    test_pred = TF_IDF_model.predict(test_vector)\n",
    "    \n",
    "    # Calculating accuracy score for trainning model\n",
    "    accuracy  = TF_IDF_model.score(train_vector, ytrain)*100\n",
    "    y_pred = TF_IDF_model.predict(test_vector)\n",
    "    \n",
    "    # Calculating accuracy score for testing model\n",
    "    acc_score = accuracy_score(ytest, y_pred)*100\n",
    "    class_report = classification_report(ytest, y_pred, output_dict=True)\n",
    "    class_df = pd.DataFrame(class_report).transpose()\n",
    "\n",
    "    # Calculating f1_score for evalution our model\n",
    "    test_f1score = f1_score(ytest, y_pred)*100\n",
    "    \n",
    "    # plotting Confusin Matrix \n",
    "    skplt.metrics.plot_confusion_matrix(ytest, y_pred)\n",
    "    \n",
    "    print(title), print('*'*len(title))\n",
    "    print('Accuracy score train set :'+ format(accuracy, '.2f') + \"%\")\n",
    "    print('Accuracy score test set  :'+ format(acc_score, '.2f') + \"%\",'\\n')\n",
    "    print('F1 score:'+ format(test_f1score, '.2f') + \"%\",'\\n'), print('*'*len(title))\n",
    "    print('Classification Report: ')\n",
    "    print(class_df, '\\n'), print('*'*len(title))\n",
    "    plt.show()\n",
    "    print('-'*80)"
   ]
  },
  {
   "cell_type": "markdown",
   "metadata": {},
   "source": [
    "### Count Vectorizer"
   ]
  },
  {
   "cell_type": "code",
   "execution_count": 4,
   "metadata": {},
   "outputs": [],
   "source": [
    "def Count_Vector(Model, title, n):\n",
    "    \n",
    "    # Spiltting the dataset after calling Clean function to pre-process datat before extracting feature\n",
    "    xtrain, xtest, ytrain, ytest = Splite_clean_data('train.csv', 'text', 'label')\n",
    "\n",
    "    # Initialization Count Vectorizer vector model to convert all textual content to numercial one\n",
    "    vector = CountVectorizer(max_features=1000 , ngram_range=(n,n))\n",
    "    train_vector = vector.fit_transform(xtrain)\n",
    "    test_vector = vector.transform(xtest)\n",
    "    \n",
    "    count_vector_model     = Model\n",
    "    count_vector_model.fit(train_vector, ytrain)\n",
    "    y_pred = count_vector_model.predict(test_vector)\n",
    "    \n",
    "    # Calculating accuracy score for trainning model\n",
    "    accuracy  = count_vector_model.score(train_vector, ytrain)*100\n",
    "    y_pred = count_vector_model.predict(test_vector)\n",
    "    \n",
    "    # Calculating accuracy score for testing model\n",
    "    acc_score = accuracy_score(ytest, y_pred)*100\n",
    "    class_report = classification_report(ytest, y_pred, output_dict=True)\n",
    "    class_df = pd.DataFrame(class_report).transpose()\n",
    "\n",
    "    # Calculating f1_score for evalution our model\n",
    "    test_f1score = f1_score(ytest, y_pred)*100\n",
    "    \n",
    "    # plotting Confusin Matrix \n",
    "    skplt.metrics.plot_confusion_matrix(ytest, y_pred)\n",
    "    \n",
    "    print(\"Models with \" , n , \"-grams :\\n\")\n",
    "    print('********************** \\n')\n",
    "    print(title), print('*'*len(title))\n",
    "    print('Accuracy score train set : '+ format(accuracy, '.2f') + \"%\")\n",
    "    print('Accuracy score test set  : '+ format(acc_score, '.2f') + \"%\",'\\n')\n",
    "    print('F1 score : '+ format(test_f1score, '.2f') + \"%\",'\\n'), print('*'*len(title))\n",
    "    print('Classification Report: ')\n",
    "    print(class_df, '\\n'), print('*'*len(title))\n",
    "    plt.show()\n",
    "    print('-'*80)"
   ]
  },
  {
   "cell_type": "markdown",
   "metadata": {},
   "source": [
    "## Classification Models"
   ]
  },
  {
   "cell_type": "markdown",
   "metadata": {},
   "source": [
    "### Logistic Regression Classifier"
   ]
  },
  {
   "cell_type": "code",
   "execution_count": 5,
   "metadata": {},
   "outputs": [],
   "source": [
    "def TF_IDF_LR_Model():\n",
    "    # Logistic Regression Classifier with TF_IDF\n",
    "    PA_Model = TF_IDF(Model = LogisticRegression(), \n",
    "                      title='TFIDF with Logistic Regression Classifier: \\n')\n",
    "    return PA_Model"
   ]
  },
  {
   "cell_type": "code",
   "execution_count": 6,
   "metadata": {},
   "outputs": [],
   "source": [
    "def Count_Vect_LR_Model():\n",
    "    # Logistic Regression  Classifier with count vectorizer\n",
    "    PA_Model = Count_Vector(Model = LogisticRegression(), \n",
    "                            title='Count Vectorizer with Logistic Regression Classifier: \\n',\n",
    "                            n=2)\n",
    "    return PA_Model"
   ]
  },
  {
   "cell_type": "markdown",
   "metadata": {},
   "source": [
    "### Random Forest Classifier"
   ]
  },
  {
   "cell_type": "code",
   "execution_count": 7,
   "metadata": {},
   "outputs": [],
   "source": [
    "def TF_IDF_RF_Model():\n",
    "    # Random Forest Classifier with TF_IDF\n",
    "    RF_Model = TF_IDF(Model=RandomForestClassifier(), \n",
    "                            title='TF-IDF with Random Forest Classifier : \\n ')\n",
    "    return RF_Model"
   ]
  },
  {
   "cell_type": "code",
   "execution_count": 8,
   "metadata": {},
   "outputs": [],
   "source": [
    "def Count_Vect_RF_Model():\n",
    "    # Random Forest Classifier with Count Vectorizer\n",
    "    RF_Model = Count_Vector(Model=RandomForestClassifier(), \n",
    "                            title='Count Vectorizer Random Forest Classifier: \\n ', \n",
    "                            n=2)\n",
    "    return RF_Model"
   ]
  },
  {
   "cell_type": "markdown",
   "metadata": {},
   "source": [
    "### Support Vector Machine Classifier"
   ]
  },
  {
   "cell_type": "code",
   "execution_count": 9,
   "metadata": {},
   "outputs": [],
   "source": [
    "def TF_IDF_SVM_Model():\n",
    "    # Support vector machine Classifier with TF-IDF\n",
    "    SVM_Model = TF_IDF(Model=svm.LinearSVC(), \n",
    "                            title='TF-IDF with Support vector machine Classifier: \\n ')\n",
    "    return SVM_Model"
   ]
  },
  {
   "cell_type": "code",
   "execution_count": 10,
   "metadata": {},
   "outputs": [],
   "source": [
    "def Count_Vect_SVM_Model():\n",
    "    # Support vector machine Classifier with Count Vectorizer\n",
    "    SVM_Model = Count_Vector(Model=svm.LinearSVC(), \n",
    "                            title='Count Vectorizer with Support vector machine Classifier : \\n ', \n",
    "                            n=2)\n",
    "    return SVM_Model"
   ]
  },
  {
   "cell_type": "markdown",
   "metadata": {},
   "source": [
    "## Evaluation Methods"
   ]
  },
  {
   "cell_type": "code",
   "execution_count": 11,
   "metadata": {},
   "outputs": [
    {
     "name": "stdout",
     "output_type": "stream",
     "text": [
      "TFIDF with Logistic Regression Classifier: \n",
      "\n",
      "********************************************\n",
      "Accuracy score train set :96.94%\n",
      "Accuracy score test set  :94.53% \n",
      "\n",
      "F1 score:94.37% \n",
      "\n",
      "********************************************\n",
      "Classification Report: \n",
      "              precision    recall  f1-score      support\n",
      "0              0.953511  0.940306  0.946862  2094.000000\n",
      "1              0.936741  0.950693  0.943666  1947.000000\n",
      "accuracy       0.945311  0.945311  0.945311     0.945311\n",
      "macro avg      0.945126  0.945500  0.945264  4041.000000\n",
      "weighted avg   0.945431  0.945311  0.945322  4041.000000 \n",
      "\n",
      "********************************************\n"
     ]
    },
    {
     "data": {
      "image/png": "[encoded data removed]",
      "text/plain": [
       "<Figure size 432x288 with 2 Axes>"
      ]
     },
     "metadata": {
      "needs_background": "light"
     },
     "output_type": "display_data"
    },
    {
     "name": "stdout",
     "output_type": "stream",
     "text": [
      "--------------------------------------------------------------------------------\n"
     ]
    }
   ],
   "source": [
    "# TFIDF with  Logistic regression classification Model \n",
    "if __name__ == '__main__':\n",
    "    TF_IDF_LR_Model()"
   ]
  },
  {
   "cell_type": "code",
   "execution_count": 12,
   "metadata": {},
   "outputs": [
    {
     "name": "stdout",
     "output_type": "stream",
     "text": [
      "Models with  2 -grams :\n",
      "\n",
      "********************** \n",
      "\n",
      "Count Vectorizer with Logistic Regression Classifier: \n",
      "\n",
      "*******************************************************\n",
      "Accuracy score train set : 92.07%\n",
      "Accuracy score test set  : 88.12% \n",
      "\n",
      "F1 score : 88.05% \n",
      "\n",
      "*******************************************************\n",
      "Classification Report: \n",
      "              precision    recall  f1-score      support\n",
      "0              0.909229  0.856256  0.881948  2094.000000\n",
      "1              0.854519  0.908064  0.880478  1947.000000\n",
      "accuracy       0.881218  0.881218  0.881218     0.881218\n",
      "macro avg      0.881874  0.882160  0.881213  4041.000000\n",
      "weighted avg   0.882869  0.881218  0.881240  4041.000000 \n",
      "\n",
      "*******************************************************\n"
     ]
    },
    {
     "data": {
      "image/png": "[encoded data removed]",
      "text/plain": [
       "<Figure size 432x288 with 2 Axes>"
      ]
     },
     "metadata": {
      "needs_background": "light"
     },
     "output_type": "display_data"
    },
    {
     "name": "stdout",
     "output_type": "stream",
     "text": [
      "--------------------------------------------------------------------------------\n"
     ]
    }
   ],
   "source": [
    "# Count Vectorizer with Logistic regression classification Model\n",
    "if __name__ == '__main__':\n",
    "    Count_Vect_LR_Model()"
   ]
  },
  {
   "cell_type": "code",
   "execution_count": 13,
   "metadata": {},
   "outputs": [
    {
     "name": "stdout",
     "output_type": "stream",
     "text": [
      "TF-IDF with Random Forest Classifier : \n",
      " \n",
      "*****************************************\n",
      "Accuracy score train set :99.99%\n",
      "Accuracy score test set  :90.62% \n",
      "\n",
      "F1 score:89.89% \n",
      "\n",
      "*****************************************\n",
      "Classification Report: \n",
      "              precision    recall  f1-score      support\n",
      "0              0.882983  0.944126  0.912532  2094.000000\n",
      "1              0.935072  0.865434  0.898906  1947.000000\n",
      "accuracy       0.906211  0.906211  0.906211     0.906211\n",
      "macro avg      0.909028  0.904780  0.905719  4041.000000\n",
      "weighted avg   0.908080  0.906211  0.905967  4041.000000 \n",
      "\n",
      "*****************************************\n"
     ]
    },
    {
     "data": {
      "image/png": "[encoded data removed]",
      "text/plain": [
       "<Figure size 432x288 with 2 Axes>"
      ]
     },
     "metadata": {
      "needs_background": "light"
     },
     "output_type": "display_data"
    },
    {
     "name": "stdout",
     "output_type": "stream",
     "text": [
      "--------------------------------------------------------------------------------\n"
     ]
    }
   ],
   "source": [
    "# TFIDF with Random Forest classification Model \n",
    "if __name__ == '__main__':\n",
    "    TF_IDF_RF_Model()"
   ]
  },
  {
   "cell_type": "code",
   "execution_count": 14,
   "metadata": {},
   "outputs": [
    {
     "name": "stdout",
     "output_type": "stream",
     "text": [
      "Models with  2 -grams :\n",
      "\n",
      "********************** \n",
      "\n",
      "Count Vectorizer Random Forest Classifier: \n",
      " \n",
      "*********************************************\n",
      "Accuracy score train set : 99.67%\n",
      "Accuracy score test set  : 87.78% \n",
      "\n",
      "F1 score : 87.25% \n",
      "\n",
      "*********************************************\n",
      "Classification Report: \n",
      "              precision    recall  f1-score      support\n",
      "0              0.878788  0.886342  0.882549  2094.000000\n",
      "1              0.876620  0.868516  0.872549  1947.000000\n",
      "accuracy       0.877753  0.877753  0.877753     0.877753\n",
      "macro avg      0.877704  0.877429  0.877549  4041.000000\n",
      "weighted avg   0.877743  0.877753  0.877731  4041.000000 \n",
      "\n",
      "*********************************************\n"
     ]
    },
    {
     "data": {
      "image/png": "[encoded data removed]",
      "text/plain": [
       "<Figure size 432x288 with 2 Axes>"
      ]
     },
     "metadata": {
      "needs_background": "light"
     },
     "output_type": "display_data"
    },
    {
     "name": "stdout",
     "output_type": "stream",
     "text": [
      "--------------------------------------------------------------------------------\n"
     ]
    }
   ],
   "source": [
    "# Count Vectorizer with Random Forest classification Model\n",
    "if __name__ == '__main__':\n",
    "    Count_Vect_RF_Model()"
   ]
  },
  {
   "cell_type": "code",
   "execution_count": 15,
   "metadata": {},
   "outputs": [
    {
     "name": "stdout",
     "output_type": "stream",
     "text": [
      "TF-IDF with Support vector machine Classifier: \n",
      " \n",
      "*************************************************\n",
      "Accuracy score train set :99.87%\n",
      "Accuracy score test set  :95.77% \n",
      "\n",
      "F1 score:95.63% \n",
      "\n",
      "*************************************************\n",
      "Classification Report: \n",
      "              precision    recall  f1-score      support\n",
      "0              0.962927  0.955110  0.959003  2094.000000\n",
      "1              0.952138  0.960452  0.956277  1947.000000\n",
      "accuracy       0.957684  0.957684  0.957684     0.957684\n",
      "macro avg      0.957533  0.957781  0.957640  4041.000000\n",
      "weighted avg   0.957729  0.957684  0.957689  4041.000000 \n",
      "\n",
      "*************************************************\n"
     ]
    },
    {
     "data": {
      "image/png": "[encoded data removed]",
      "text/plain": [
       "<Figure size 432x288 with 2 Axes>"
      ]
     },
     "metadata": {
      "needs_background": "light"
     },
     "output_type": "display_data"
    },
    {
     "name": "stdout",
     "output_type": "stream",
     "text": [
      "--------------------------------------------------------------------------------\n"
     ]
    }
   ],
   "source": [
    "# TF-IDF with SVM classification Model\n",
    "if __name__ == '__main__':\n",
    "    TF_IDF_SVM_Model()"
   ]
  },
  {
   "cell_type": "code",
   "execution_count": 16,
   "metadata": {},
   "outputs": [
    {
     "name": "stdout",
     "output_type": "stream",
     "text": [
      "Models with  2 -grams :\n",
      "\n",
      "********************** \n",
      "\n",
      "Count Vectorizer with Support vector machine Classifier : \n",
      " \n",
      "************************************************************\n",
      "Accuracy score train set : 92.02%\n",
      "Accuracy score test set  : 88.02% \n",
      "\n",
      "F1 score : 87.96% \n",
      "\n",
      "************************************************************\n",
      "Classification Report: \n",
      "              precision    recall  f1-score      support\n",
      "0              0.909045  0.854346  0.880847  2094.000000\n",
      "1              0.852870  0.908064  0.879602  1947.000000\n",
      "accuracy       0.880228  0.880228  0.880228     0.880228\n",
      "macro avg      0.880957  0.881205  0.880224  4041.000000\n",
      "weighted avg   0.881979  0.880228  0.880247  4041.000000 \n",
      "\n",
      "************************************************************\n"
     ]
    },
    {
     "data": {
      "image/png": "[encoded data removed]",
      "text/plain": [
       "<Figure size 432x288 with 2 Axes>"
      ]
     },
     "metadata": {
      "needs_background": "light"
     },
     "output_type": "display_data"
    },
    {
     "name": "stdout",
     "output_type": "stream",
     "text": [
      "--------------------------------------------------------------------------------\n"
     ]
    }
   ],
   "source": [
    "# Count Vectorizer with SVM classification Model\n",
    "if __name__ == '__main__':\n",
    "    Count_Vect_SVM_Model()"
   ]
  },
  {
   "cell_type": "markdown",
   "metadata": {},
   "source": [
    "<!--  -->"
   ]
  },
  {
   "cell_type": "markdown",
   "metadata": {},
   "source": [
    "<!--  -->"
   ]
  }
 ],
 "metadata": {
  "kernelspec": {
   "display_name": "Python 3",
   "language": "python",
   "name": "python3"
  },
  "language_info": {
   "codemirror_mode": {
    "name": "ipython",
    "version": 3
   },
   "file_extension": ".py",
   "mimetype": "text/x-python",
   "name": "python",
   "nbconvert_exporter": "python",
   "pygments_lexer": "ipython3",
   "version": "3.7.6"
  }
 },
 "nbformat": 4,
 "nbformat_minor": 4
}
